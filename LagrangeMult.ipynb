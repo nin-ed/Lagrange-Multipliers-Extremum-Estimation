{
  "nbformat": 4,
  "nbformat_minor": 0,
  "metadata": {
    "colab": {
      "name": "LagrangeMult.ipynb",
      "provenance": [],
      "authorship_tag": "ABX9TyN2En96AoRxar0LUNAGAp9J",
      "include_colab_link": true
    },
    "kernelspec": {
      "name": "python3",
      "display_name": "Python 3"
    }
  },
  "cells": [
    {
      "cell_type": "markdown",
      "metadata": {
        "id": "view-in-github",
        "colab_type": "text"
      },
      "source": [
        "<a href=\"https://colab.research.google.com/github/nin-ed/Lagrange-Multipliers-Extremum-Estimation/blob/main/LagrangeMult.ipynb\" target=\"_parent\"><img src=\"https://colab.research.google.com/assets/colab-badge.svg\" alt=\"Open In Colab\"/></a>"
      ]
    },
    {
      "cell_type": "markdown",
      "metadata": {
        "id": "qKZ-LPkjTI_D"
      },
      "source": [
        "## Lagrange Multipliers [ f(x) bound to g(x) <= 0 ]"
      ]
    },
    {
      "cell_type": "markdown",
      "metadata": {
        "id": "0tO5OLzhTUMU"
      },
      "source": [
        "### Maximization [ min(x) max(constraints' coeffs => lambda) ]\r\n",
        "#### $f(x) = (x+3)^2$ bound to $(x+2) <= 0$"
      ]
    },
    {
      "cell_type": "code",
      "metadata": {
        "id": "J8ayW-n6S4dZ"
      },
      "source": [
        "import torch"
      ],
      "execution_count": 1,
      "outputs": []
    },
    {
      "cell_type": "code",
      "metadata": {
        "id": "fmlhrODATyKm"
      },
      "source": [
        "def func(x, l):\r\n",
        "    return (x+3)**2 + l*(x+2)"
      ],
      "execution_count": 2,
      "outputs": []
    },
    {
      "cell_type": "code",
      "metadata": {
        "id": "c2mQxgvMT372"
      },
      "source": [
        "x = torch.tensor(0.0, requires_grad=True)\r\n",
        "l = torch.tensor(0.0, requires_grad=True)\r\n",
        "alpha = 0.1"
      ],
      "execution_count": 4,
      "outputs": []
    },
    {
      "cell_type": "code",
      "metadata": {
        "colab": {
          "base_uri": "https://localhost:8080/"
        },
        "id": "zFQ2ckmfT5oB",
        "outputId": "4bd7d58c-4c3a-437a-ad1e-18236167dfda"
      },
      "source": [
        "for _ in range(500):\r\n",
        "    f = func(x, l)\r\n",
        "    dx, dl = torch.autograd.grad(f, [x, l])\r\n",
        "    with torch.no_grad():\r\n",
        "        x -= alpha * dx\r\n",
        "        l += alpha * dl\r\n",
        "\r\n",
        "print(f\"x: {x},  l: {l}\")\r\n",
        "print(f\"Function Value: {func(x, l)}\")"
      ],
      "execution_count": 5,
      "outputs": [
        {
          "output_type": "stream",
          "text": [
            "x: -2.000000476837158,  l: -1.9999998807907104\n",
            "Function Value: 1.0\n"
          ],
          "name": "stdout"
        }
      ]
    },
    {
      "cell_type": "markdown",
      "metadata": {
        "id": "XyVNBJ_KUj-N"
      },
      "source": [
        "### Minimization [ max(x) min(constraints' coeffs => lambda) ]\r\n",
        "#### $f(x) = -(x+3)^2$ bound to $(x+2) <= 0$"
      ]
    },
    {
      "cell_type": "code",
      "metadata": {
        "id": "09mhw5OAUg3o"
      },
      "source": [
        "def func(x, l):\r\n",
        "    return -(x+3)**2 + l*(x+2)"
      ],
      "execution_count": 6,
      "outputs": []
    },
    {
      "cell_type": "code",
      "metadata": {
        "id": "Qy8npRpiVrqO"
      },
      "source": [
        "x = torch.tensor(0.0, requires_grad=True)\r\n",
        "l = torch.tensor(0.0, requires_grad=True)\r\n",
        "alpha = 0.1"
      ],
      "execution_count": 8,
      "outputs": []
    },
    {
      "cell_type": "code",
      "metadata": {
        "colab": {
          "base_uri": "https://localhost:8080/"
        },
        "id": "OEKZiP2iVtfX",
        "outputId": "bc646025-91e8-4b24-cfea-1dd85b239238"
      },
      "source": [
        "for _ in range(500):\r\n",
        "    f = func(x, l)\r\n",
        "    dx, dl = torch.autograd.grad(f, [x, l])\r\n",
        "    with torch.no_grad():\r\n",
        "        x += alpha * dx\r\n",
        "        l -= alpha * dl\r\n",
        "\r\n",
        "print(f\"x: {x},  l: {l}\")\r\n",
        "print(f\"Function Value: {func(x, l)}\")"
      ],
      "execution_count": 17,
      "outputs": [
        {
          "output_type": "stream",
          "text": [
            "x: -2.000000476837158,  l: 1.9999998807907104\n",
            "Function Value: -1.0\n"
          ],
          "name": "stdout"
        }
      ]
    },
    {
      "cell_type": "code",
      "metadata": {
        "id": "OEQ-k8PgW40g"
      },
      "source": [
        ""
      ],
      "execution_count": null,
      "outputs": []
    }
  ]
}